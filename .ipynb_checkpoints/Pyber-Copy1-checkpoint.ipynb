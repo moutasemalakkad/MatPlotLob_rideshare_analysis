{
 "cells": [
  {
   "cell_type": "code",
   "execution_count": 1,
   "metadata": {},
   "outputs": [],
   "source": [
    "import pandas as pd\n",
    "import matplotlib.pyplot as plt\n",
    "import numpy as np"
   ]
  },
  {
   "cell_type": "code",
   "execution_count": 2,
   "metadata": {},
   "outputs": [],
   "source": [
    "path_city_data = 'data/city_data.csv'\n",
    "path_ride_data = 'data/ride_data.csv'"
   ]
  },
  {
   "cell_type": "code",
   "execution_count": 3,
   "metadata": {},
   "outputs": [
    {
     "data": {
      "text/html": [
       "<div>\n",
       "<style scoped>\n",
       "    .dataframe tbody tr th:only-of-type {\n",
       "        vertical-align: middle;\n",
       "    }\n",
       "\n",
       "    .dataframe tbody tr th {\n",
       "        vertical-align: top;\n",
       "    }\n",
       "\n",
       "    .dataframe thead th {\n",
       "        text-align: right;\n",
       "    }\n",
       "</style>\n",
       "<table border=\"1\" class=\"dataframe\">\n",
       "  <thead>\n",
       "    <tr style=\"text-align: right;\">\n",
       "      <th></th>\n",
       "      <th>city</th>\n",
       "      <th>driver_count</th>\n",
       "      <th>type</th>\n",
       "    </tr>\n",
       "  </thead>\n",
       "  <tbody>\n",
       "    <tr>\n",
       "      <th>0</th>\n",
       "      <td>Richardfort</td>\n",
       "      <td>38</td>\n",
       "      <td>Urban</td>\n",
       "    </tr>\n",
       "    <tr>\n",
       "      <th>1</th>\n",
       "      <td>Williamsstad</td>\n",
       "      <td>59</td>\n",
       "      <td>Urban</td>\n",
       "    </tr>\n",
       "  </tbody>\n",
       "</table>\n",
       "</div>"
      ],
      "text/plain": [
       "           city  driver_count   type\n",
       "0   Richardfort            38  Urban\n",
       "1  Williamsstad            59  Urban"
      ]
     },
     "execution_count": 3,
     "metadata": {},
     "output_type": "execute_result"
    }
   ],
   "source": [
    "city_data_df = pd.read_csv(path_city_data)\n",
    "city_data_df.head(2)"
   ]
  },
  {
   "cell_type": "code",
   "execution_count": 4,
   "metadata": {},
   "outputs": [
    {
     "data": {
      "text/html": [
       "<div>\n",
       "<style scoped>\n",
       "    .dataframe tbody tr th:only-of-type {\n",
       "        vertical-align: middle;\n",
       "    }\n",
       "\n",
       "    .dataframe tbody tr th {\n",
       "        vertical-align: top;\n",
       "    }\n",
       "\n",
       "    .dataframe thead th {\n",
       "        text-align: right;\n",
       "    }\n",
       "</style>\n",
       "<table border=\"1\" class=\"dataframe\">\n",
       "  <thead>\n",
       "    <tr style=\"text-align: right;\">\n",
       "      <th></th>\n",
       "      <th>city</th>\n",
       "      <th>date</th>\n",
       "      <th>fare</th>\n",
       "      <th>ride_id</th>\n",
       "    </tr>\n",
       "  </thead>\n",
       "  <tbody>\n",
       "    <tr>\n",
       "      <th>0</th>\n",
       "      <td>Lake Jonathanshire</td>\n",
       "      <td>2018-01-14 10:14:22</td>\n",
       "      <td>13.83</td>\n",
       "      <td>5739410935873</td>\n",
       "    </tr>\n",
       "    <tr>\n",
       "      <th>1</th>\n",
       "      <td>South Michelleport</td>\n",
       "      <td>2018-03-04 18:24:09</td>\n",
       "      <td>30.24</td>\n",
       "      <td>2343912425577</td>\n",
       "    </tr>\n",
       "  </tbody>\n",
       "</table>\n",
       "</div>"
      ],
      "text/plain": [
       "                 city                 date   fare        ride_id\n",
       "0  Lake Jonathanshire  2018-01-14 10:14:22  13.83  5739410935873\n",
       "1  South Michelleport  2018-03-04 18:24:09  30.24  2343912425577"
      ]
     },
     "execution_count": 4,
     "metadata": {},
     "output_type": "execute_result"
    }
   ],
   "source": [
    "ride_data_df = pd.read_csv(path_ride_data)\n",
    "ride_data_df.head(2)"
   ]
  },
  {
   "cell_type": "code",
   "execution_count": 59,
   "metadata": {},
   "outputs": [
    {
     "data": {
      "text/html": [
       "<div>\n",
       "<style scoped>\n",
       "    .dataframe tbody tr th:only-of-type {\n",
       "        vertical-align: middle;\n",
       "    }\n",
       "\n",
       "    .dataframe tbody tr th {\n",
       "        vertical-align: top;\n",
       "    }\n",
       "\n",
       "    .dataframe thead th {\n",
       "        text-align: right;\n",
       "    }\n",
       "</style>\n",
       "<table border=\"1\" class=\"dataframe\">\n",
       "  <thead>\n",
       "    <tr style=\"text-align: right;\">\n",
       "      <th></th>\n",
       "      <th>city</th>\n",
       "      <th>driver_count</th>\n",
       "      <th>type</th>\n",
       "      <th>date</th>\n",
       "      <th>fare</th>\n",
       "      <th>ride_id</th>\n",
       "    </tr>\n",
       "  </thead>\n",
       "  <tbody>\n",
       "    <tr>\n",
       "      <th>0</th>\n",
       "      <td>Richardfort</td>\n",
       "      <td>38</td>\n",
       "      <td>Urban</td>\n",
       "      <td>2018-02-24 08:40:38</td>\n",
       "      <td>13.93</td>\n",
       "      <td>5628545007794</td>\n",
       "    </tr>\n",
       "    <tr>\n",
       "      <th>1</th>\n",
       "      <td>Richardfort</td>\n",
       "      <td>38</td>\n",
       "      <td>Urban</td>\n",
       "      <td>2018-02-13 12:46:07</td>\n",
       "      <td>14.00</td>\n",
       "      <td>910050116494</td>\n",
       "    </tr>\n",
       "    <tr>\n",
       "      <th>2</th>\n",
       "      <td>Richardfort</td>\n",
       "      <td>38</td>\n",
       "      <td>Urban</td>\n",
       "      <td>2018-02-16 13:52:19</td>\n",
       "      <td>17.92</td>\n",
       "      <td>820639054416</td>\n",
       "    </tr>\n",
       "    <tr>\n",
       "      <th>3</th>\n",
       "      <td>Richardfort</td>\n",
       "      <td>38</td>\n",
       "      <td>Urban</td>\n",
       "      <td>2018-02-01 20:18:28</td>\n",
       "      <td>10.26</td>\n",
       "      <td>9554935945413</td>\n",
       "    </tr>\n",
       "    <tr>\n",
       "      <th>4</th>\n",
       "      <td>Richardfort</td>\n",
       "      <td>38</td>\n",
       "      <td>Urban</td>\n",
       "      <td>2018-04-17 02:26:37</td>\n",
       "      <td>23.00</td>\n",
       "      <td>720020655850</td>\n",
       "    </tr>\n",
       "  </tbody>\n",
       "</table>\n",
       "</div>"
      ],
      "text/plain": [
       "          city  driver_count   type                 date   fare        ride_id\n",
       "0  Richardfort            38  Urban  2018-02-24 08:40:38  13.93  5628545007794\n",
       "1  Richardfort            38  Urban  2018-02-13 12:46:07  14.00   910050116494\n",
       "2  Richardfort            38  Urban  2018-02-16 13:52:19  17.92   820639054416\n",
       "3  Richardfort            38  Urban  2018-02-01 20:18:28  10.26  9554935945413\n",
       "4  Richardfort            38  Urban  2018-04-17 02:26:37  23.00   720020655850"
      ]
     },
     "execution_count": 59,
     "metadata": {},
     "output_type": "execute_result"
    }
   ],
   "source": [
    "merged_df = pd.merge(city_data_df, ride_data_df, on='city')\n",
    "merged_df.head()"
   ]
  },
  {
   "cell_type": "code",
   "execution_count": 133,
   "metadata": {},
   "outputs": [
    {
     "data": {
      "text/plain": [
       "<pandas.core.groupby.generic.DataFrameGroupBy object at 0x121f9d080>"
      ]
     },
     "execution_count": 133,
     "metadata": {},
     "output_type": "execute_result"
    }
   ],
   "source": [
    "grouped_city_type = merged_df.groupby(by=['type','city'])\n",
    "grouped_city_type"
   ]
  },
  {
   "cell_type": "code",
   "execution_count": 134,
   "metadata": {},
   "outputs": [
    {
     "data": {
      "text/plain": [
       "type      city                \n",
       "Rural     Bradshawfurt               [Rural]\n",
       "          Garzaport                  [Rural]\n",
       "          Harringtonfort             [Rural]\n",
       "          Jessicaport                [Rural]\n",
       "          Lake Jamie                 [Rural]\n",
       "          Lake Latoyabury            [Rural]\n",
       "          Michaelberg                [Rural]\n",
       "          New Ryantown               [Rural]\n",
       "          Newtonview                 [Rural]\n",
       "          North Holly                [Rural]\n",
       "          North Jaime                [Rural]\n",
       "          Penaborough                [Rural]\n",
       "          Randallchester             [Rural]\n",
       "          South Jennifer             [Rural]\n",
       "          South Marychester          [Rural]\n",
       "          South Saramouth            [Rural]\n",
       "          Taylorhaven                [Rural]\n",
       "          West Heather               [Rural]\n",
       "Suburban  Barronchester           [Suburban]\n",
       "          Bethanyland             [Suburban]\n",
       "          Brandonfort             [Suburban]\n",
       "          Colemanland             [Suburban]\n",
       "          Davidfurt               [Suburban]\n",
       "          East Aaronbury          [Suburban]\n",
       "          East Danielview         [Suburban]\n",
       "          East Kentstad           [Suburban]\n",
       "          East Marymouth          [Suburban]\n",
       "          Grayville               [Suburban]\n",
       "          Josephside              [Suburban]\n",
       "          Lake Ann                [Suburban]\n",
       "                                     ...    \n",
       "Urban     Port Johnbury              [Urban]\n",
       "          Port Samanthamouth         [Urban]\n",
       "          Raymondhaven               [Urban]\n",
       "          Reynoldsfurt               [Urban]\n",
       "          Richardfort                [Urban]\n",
       "          Roberthaven                [Urban]\n",
       "          Robertport                 [Urban]\n",
       "          Rodneyfort                 [Urban]\n",
       "          Rogerston                  [Urban]\n",
       "          Royland                    [Urban]\n",
       "          Simpsonburgh               [Urban]\n",
       "          South Evanton              [Urban]\n",
       "          South Jack                 [Urban]\n",
       "          South Karenland            [Urban]\n",
       "          South Latoya               [Urban]\n",
       "          South Michelleport         [Urban]\n",
       "          South Phillip              [Urban]\n",
       "          Valentineton               [Urban]\n",
       "          West Angela                [Urban]\n",
       "          West Anthony               [Urban]\n",
       "          West Christopherberg       [Urban]\n",
       "          West Ericstad              [Urban]\n",
       "          West Gabriel               [Urban]\n",
       "          West Heidi                 [Urban]\n",
       "          West Josephberg            [Urban]\n",
       "          West Patrickchester        [Urban]\n",
       "          West Robert                [Urban]\n",
       "          West Samuelburgh           [Urban]\n",
       "          Williamsstad               [Urban]\n",
       "          Williamsview               [Urban]\n",
       "Name: type, Length: 120, dtype: object"
      ]
     },
     "execution_count": 134,
     "metadata": {},
     "output_type": "execute_result"
    }
   ],
   "source": [
    "grouped_city_type['type'].unique()"
   ]
  },
  {
   "cell_type": "markdown",
   "metadata": {},
   "source": []
  },
  {
   "cell_type": "markdown",
   "metadata": {},
   "source": [
    "Average Fare ($) Per City Type"
   ]
  },
  {
   "cell_type": "code",
   "execution_count": 135,
   "metadata": {},
   "outputs": [
    {
     "data": {
      "text/plain": [
       "type      city                \n",
       "Rural     Bradshawfurt            40.064000\n",
       "          Garzaport               24.123333\n",
       "          Harringtonfort          33.470000\n",
       "          Jessicaport             36.013333\n",
       "          Lake Jamie              34.358333\n",
       "          Lake Latoyabury         26.061818\n",
       "          Michaelberg             34.997500\n",
       "          New Ryantown            43.278333\n",
       "          Newtonview              36.745000\n",
       "          North Holly             29.130000\n",
       "          North Jaime             30.802500\n",
       "          Penaborough             35.246000\n",
       "          Randallchester          29.742000\n",
       "          South Jennifer          35.264286\n",
       "          South Marychester       41.870000\n",
       "          South Saramouth         36.160000\n",
       "          Taylorhaven             42.263333\n",
       "          West Heather            33.890000\n",
       "Suburban  Barronchester           36.422500\n",
       "          Bethanyland             32.956111\n",
       "          Brandonfort             35.437368\n",
       "          Colemanland             30.894545\n",
       "          Davidfurt               31.995882\n",
       "          East Aaronbury          25.661111\n",
       "          East Danielview         31.560588\n",
       "          East Kentstad           29.823077\n",
       "          East Marymouth          30.835185\n",
       "          Grayville               27.763333\n",
       "          Josephside              32.858148\n",
       "          Lake Ann                30.890000\n",
       "                                    ...    \n",
       "Urban     Port Johnbury           23.006364\n",
       "          Port Samanthamouth      25.642800\n",
       "          Raymondhaven            21.480400\n",
       "          Reynoldsfurt            21.919474\n",
       "          Richardfort             22.373214\n",
       "          Roberthaven             23.729167\n",
       "          Robertport              23.060500\n",
       "          Rodneyfort              28.616957\n",
       "          Rogerston               22.097727\n",
       "          Royland                 20.570667\n",
       "          Simpsonburgh            23.355833\n",
       "          South Evanton           26.726129\n",
       "          South Jack              22.965263\n",
       "          South Karenland         26.535526\n",
       "          South Latoya            20.093158\n",
       "          South Michelleport      24.451613\n",
       "          South Phillip           28.571290\n",
       "          Valentineton            24.636364\n",
       "          West Angela             25.990000\n",
       "          West Anthony            24.736667\n",
       "          West Christopherberg    24.421154\n",
       "          West Ericstad           22.347222\n",
       "          West Gabriel            20.346087\n",
       "          West Heidi              23.133929\n",
       "          West Josephberg         21.720385\n",
       "          West Patrickchester     28.233125\n",
       "          West Robert             25.123871\n",
       "          West Samuelburgh        21.767600\n",
       "          Williamsstad            24.362174\n",
       "          Williamsview            26.599000\n",
       "Name: fare, Length: 120, dtype: float64"
      ]
     },
     "execution_count": 135,
     "metadata": {},
     "output_type": "execute_result"
    }
   ],
   "source": [
    "fares = grouped_city_type.mean()['fare']\n",
    "fares"
   ]
  },
  {
   "cell_type": "code",
   "execution_count": 136,
   "metadata": {},
   "outputs": [],
   "source": [
    "#Rural_average_fare = fares['Rural']"
   ]
  },
  {
   "cell_type": "code",
   "execution_count": 137,
   "metadata": {},
   "outputs": [],
   "source": [
    "#Suburban_average_fare = fares['Suburban']"
   ]
  },
  {
   "cell_type": "code",
   "execution_count": 138,
   "metadata": {},
   "outputs": [],
   "source": [
    "#Urban_average_fare = fares['Urban']"
   ]
  },
  {
   "cell_type": "code",
   "execution_count": null,
   "metadata": {},
   "outputs": [],
   "source": []
  },
  {
   "cell_type": "code",
   "execution_count": null,
   "metadata": {},
   "outputs": [],
   "source": []
  },
  {
   "cell_type": "markdown",
   "metadata": {},
   "source": [
    "Total Number of Rides Per City"
   ]
  },
  {
   "cell_type": "code",
   "execution_count": 139,
   "metadata": {},
   "outputs": [],
   "source": [
    "grouped_by_city = merged_df.groupby(by=['type','city'])\n",
    "Total_Num_Rides_Per_City = grouped_by_city.count()['ride_id']"
   ]
  },
  {
   "cell_type": "code",
   "execution_count": null,
   "metadata": {},
   "outputs": [],
   "source": []
  },
  {
   "cell_type": "markdown",
   "metadata": {},
   "source": [
    "Total Number of Drivers Per City"
   ]
  },
  {
   "cell_type": "code",
   "execution_count": 140,
   "metadata": {},
   "outputs": [],
   "source": [
    "Drivers_count_per_city = grouped_by_city.sum()['driver_count']"
   ]
  },
  {
   "cell_type": "code",
   "execution_count": 146,
   "metadata": {},
   "outputs": [
    {
     "data": {
      "text/plain": [
       "<matplotlib.collections.PathCollection at 0x12235e780>"
      ]
     },
     "execution_count": 146,
     "metadata": {},
     "output_type": "execute_result"
    },
    {
     "data": {
      "image/png": "[encoded data removed]",
      "text/plain": [
       "<Figure size 432x288 with 1 Axes>"
      ]
     },
     "metadata": {
      "needs_background": "light"
     },
     "output_type": "display_data"
    }
   ],
   "source": [
    "plt.scatter(Total_Num_Rides_Per_City, fares, s=Drivers_count_per_city/4, alpha=0.5)"
   ]
  },
  {
   "cell_type": "code",
   "execution_count": null,
   "metadata": {},
   "outputs": [],
   "source": []
  },
  {
   "cell_type": "code",
   "execution_count": null,
   "metadata": {},
   "outputs": [],
   "source": []
  },
  {
   "cell_type": "code",
   "execution_count": null,
   "metadata": {},
   "outputs": [],
   "source": []
  }
 ],
 "metadata": {
  "kernelspec": {
   "display_name": "Python [conda env:PythonData] *",
   "language": "python",
   "name": "conda-env-PythonData-py"
  },
  "language_info": {
   "codemirror_mode": {
    "name": "ipython",
    "version": 3
   },
   "file_extension": ".py",
   "mimetype": "text/x-python",
   "name": "python",
   "nbconvert_exporter": "python",
   "pygments_lexer": "ipython3",
   "version": "3.7.3"
  }
 },
 "nbformat": 4,
 "nbformat_minor": 2
}
